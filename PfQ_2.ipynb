{
 "cells": [
  {
   "cell_type": "markdown",
   "metadata": {},
   "source": [
    "# Pythof For Quants 2"
   ]
  },
  {
   "cell_type": "code",
   "execution_count": 14,
   "metadata": {},
   "outputs": [],
   "source": [
    "#importing libraries\n",
    "from numpy import *\n",
    "import scipy.stats as stats\n",
    "import statistics as st"
   ]
  },
  {
   "cell_type": "code",
   "execution_count": 11,
   "metadata": {},
   "outputs": [
    {
     "data": {
      "text/plain": [
       "array([0.00955549, 0.03041246, 0.03256798, 0.04042293, 0.05382261,\n",
       "       0.11003076, 0.11782496, 0.13632673, 0.15437851, 0.1749872 ,\n",
       "       0.221781  , 0.25371637, 0.25415704, 0.25674926, 0.26529512,\n",
       "       0.26842133, 0.28325893, 0.28406917, 0.29060016, 0.31855106,\n",
       "       0.32132974, 0.32142925, 0.33197343, 0.34312573, 0.34808842,\n",
       "       0.34835327, 0.38133682, 0.39534104, 0.4321312 , 0.43858178,\n",
       "       0.44061337, 0.45889713, 0.46099355, 0.46873407, 0.49996337,\n",
       "       0.52122833, 0.5515812 , 0.55220867, 0.57108321, 0.59928744,\n",
       "       0.59931548, 0.62199543, 0.66103289, 0.68341462, 0.70361297,\n",
       "       0.71624862, 0.7429143 , 0.74751022, 0.78210076, 0.8181996 ,\n",
       "       0.8278579 , 0.83013836, 0.84486703, 0.86805475, 0.88615088,\n",
       "       0.89157449, 0.89475353, 0.92198941, 0.93440917, 0.94724503,\n",
       "       0.95849888, 0.96716086, 0.97011387, 0.99058777, 0.99247816])"
      ]
     },
     "execution_count": 11,
     "metadata": {},
     "output_type": "execute_result"
    }
   ],
   "source": [
    "random.seed(350)\n",
    "x = random.random(65)\n",
    "x.sort()\n",
    "x"
   ]
  },
  {
   "cell_type": "code",
   "execution_count": 13,
   "metadata": {},
   "outputs": [
    {
     "data": {
      "text/plain": [
       "array([0.00801275, 0.00804682, 0.01323431, 0.0668805 , 0.08308861,\n",
       "       0.12100727, 0.14804724, 0.15088457, 0.17583971, 0.1794865 ,\n",
       "       0.18170687, 0.20449123, 0.2051052 , 0.22915386, 0.23799115,\n",
       "       0.2409671 , 0.25569186, 0.26063803, 0.26245282, 0.27057905,\n",
       "       0.28862204, 0.33437831, 0.33514923, 0.34696402, 0.35135457,\n",
       "       0.35396517, 0.37257413, 0.387313  , 0.39220956, 0.39517093,\n",
       "       0.40063879, 0.42177805, 0.42181945, 0.43177618, 0.46497858,\n",
       "       0.47722072, 0.49040216, 0.50942141, 0.54859533, 0.55258593,\n",
       "       0.57478378, 0.59705655, 0.66783556, 0.68209733, 0.69255501,\n",
       "       0.6996079 , 0.70303883, 0.71353734, 0.72232685, 0.72493424,\n",
       "       0.74433194, 0.75520806, 0.8011    , 0.81370315, 0.85653705,\n",
       "       0.89606906, 0.91586804, 0.92146231, 0.92169045, 0.93159769,\n",
       "       0.9429449 , 0.94658466, 0.95440881, 0.95615498, 0.97560951])"
      ]
     },
     "execution_count": 13,
     "metadata": {},
     "output_type": "execute_result"
    }
   ],
   "source": [
    "#generating random uniform samples\n",
    "\n",
    "u = random.uniform(0,1,65)\n",
    "u.sort()\n",
    "u"
   ]
  },
  {
   "cell_type": "markdown",
   "metadata": {},
   "source": [
    "### Kolmogorov-Smirnov test"
   ]
  },
  {
   "cell_type": "code",
   "execution_count": 15,
   "metadata": {},
   "outputs": [
    {
     "name": "stdout",
     "output_type": "stream",
     "text": [
      "0.7103090841458919 0.6176282007161773\n",
      "\n"
     ]
    }
   ],
   "source": [
    "_,px = stats.kstest(x,'uniform')\n",
    "_, pu = stats.kstest(u, \"uniform\")\n",
    "\n",
    "print(px, pu)\n",
    "print()"
   ]
  },
  {
   "cell_type": "markdown",
   "metadata": {},
   "source": [
    "### Datetime module and functions"
   ]
  },
  {
   "cell_type": "code",
   "execution_count": 18,
   "metadata": {},
   "outputs": [
    {
     "data": {
      "text/plain": [
       "622760"
      ]
     },
     "execution_count": 18,
     "metadata": {},
     "output_type": "execute_result"
    }
   ],
   "source": [
    "from datetime import datetime\n",
    "x = datetime.now()\n",
    "x\n",
    "y = x.microsecond\n",
    "y"
   ]
  },
  {
   "cell_type": "markdown",
   "metadata": {},
   "source": [
    "### Randomness"
   ]
  },
  {
   "cell_type": "code",
   "execution_count": 24,
   "metadata": {},
   "outputs": [
    {
     "name": "stdout",
     "output_type": "stream",
     "text": [
      "['e', 'x', 'g', 's', 'y', 'k', 'v', 'h', 'a', 'z', 'd', 'w', 'l', 'm', 'n', 'o', 'u', 't', 'p', 'i', 'b', 'r', 'q', 'c', 'f', 'j']\n"
     ]
    }
   ],
   "source": [
    "random.seed(0)\n",
    "\n",
    "chars = [i for i in \"qwertyuioplkjhgfdsazxcvbnm\"]\n",
    "random.shuffle(chars)\n",
    "print(chars)"
   ]
  },
  {
   "cell_type": "code",
   "execution_count": 31,
   "metadata": {},
   "outputs": [
    {
     "name": "stdout",
     "output_type": "stream",
     "text": [
      "[5, 7, 27, 41, 68, 82]\n"
     ]
    }
   ],
   "source": [
    "## Generating a LOTTO sample\n",
    "import random as r\n",
    "x = range(1,100)\n",
    "luckydraw_7 = list(r.sample(x,6))\n",
    "luckydraw_7.sort()\n",
    "print(luckydraw_7)"
   ]
  },
  {
   "cell_type": "markdown",
   "metadata": {},
   "source": [
    "### Key difference: np.random.sample is different than random.sample"
   ]
  },
  {
   "cell_type": "code",
   "execution_count": 32,
   "metadata": {},
   "outputs": [
    {
     "name": "stdout",
     "output_type": "stream",
     "text": [
      "[21, 48, 65, 70, 80, 81]\n"
     ]
    }
   ],
   "source": [
    "## Random number generation\n",
    "\n",
    "p = range(1,50)\n",
    "luckyNos = []\n",
    "\n",
    "for i in range(1,7):\n",
    "    num = random.choice(x)\n",
    "    if num in luckyNos:\n",
    "        num = random.choice(x)\n",
    "    else:\n",
    "        luckyNos.append(num)\n",
    "luckyNos.sort()\n",
    "print(luckyNos)\n",
    "    "
   ]
  },
  {
   "cell_type": "markdown",
   "metadata": {},
   "source": [
    "### Generating Different distributions"
   ]
  },
  {
   "cell_type": "markdown",
   "metadata": {},
   "source": [
    "### Log normal distribution"
   ]
  },
  {
   "cell_type": "code",
   "execution_count": 34,
   "metadata": {},
   "outputs": [
    {
     "data": {
      "image/png": "[encoded data removed]",
      "text/plain": [
       "<Figure size 720x432 with 1 Axes>"
      ]
     },
     "metadata": {
      "needs_background": "light"
     },
     "output_type": "display_data"
    }
   ],
   "source": [
    "import random as r\n",
    "import matplotlib.pyplot as plt\n",
    "\n",
    "mu=1.21\n",
    "sigma=0.43\n",
    "log_rv = [r.lognormvariate(mu,sigma) for i in range(1000)]\n",
    "\n",
    "plt.figure(figsize=[10,6])\n",
    "plt.hist(log_rv, bins=50)\n",
    "plt.show()"
   ]
  },
  {
   "cell_type": "markdown",
   "metadata": {},
   "source": [
    "# Gaussian distribution"
   ]
  },
  {
   "cell_type": "code",
   "execution_count": 37,
   "metadata": {},
   "outputs": [
    {
     "data": {
      "image/png": "[encoded data removed]",
      "text/plain": [
       "<Figure size 720x1080 with 1 Axes>"
      ]
     },
     "metadata": {
      "needs_background": "light"
     },
     "output_type": "display_data"
    }
   ],
   "source": [
    "mu = 5.75\n",
    "sigma = 15.755\n",
    "\n",
    "g = [r.gauss(mu,sigma) for i in range(500)]\n",
    "plt.figure(figsize=[10,15])\n",
    "plt.hist(g, bins=10)\n",
    "plt.show()"
   ]
  },
  {
   "cell_type": "code",
   "execution_count": null,
   "metadata": {},
   "outputs": [],
   "source": []
  },
  {
   "cell_type": "code",
   "execution_count": null,
   "metadata": {},
   "outputs": [],
   "source": []
  },
  {
   "cell_type": "code",
   "execution_count": null,
   "metadata": {},
   "outputs": [],
   "source": []
  }
 ],
 "metadata": {
  "kernelspec": {
   "display_name": "Python 3",
   "language": "python",
   "name": "python3"
  },
  "language_info": {
   "codemirror_mode": {
    "name": "ipython",
    "version": 3
   },
   "file_extension": ".py",
   "mimetype": "text/x-python",
   "name": "python",
   "nbconvert_exporter": "python",
   "pygments_lexer": "ipython3",
   "version": "3.8.5"
  }
 },
 "nbformat": 4,
 "nbformat_minor": 4
}
