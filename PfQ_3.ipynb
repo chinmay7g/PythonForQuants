{
 "cells": [
  {
   "cell_type": "markdown",
   "metadata": {},
   "source": [
    "# Python for Quants 3"
   ]
  },
  {
   "cell_type": "markdown",
   "metadata": {},
   "source": [
    "## Tuples, Named Tuple, Sets"
   ]
  },
  {
   "cell_type": "markdown",
   "metadata": {},
   "source": [
    "### TUPLES"
   ]
  },
  {
   "cell_type": "code",
   "execution_count": 2,
   "metadata": {},
   "outputs": [
    {
     "name": "stdout",
     "output_type": "stream",
     "text": [
      "<class 'tuple'>\n",
      "<class 'tuple'>\n"
     ]
    }
   ],
   "source": [
    "## Tuple can be presented by \n",
    "\n",
    "a = 1,\n",
    "print(type(a))\n",
    "\n",
    "b = (10, \"a\", [5,6,8], 1.7j)\n",
    "print(type(b))\n"
   ]
  },
  {
   "cell_type": "code",
   "execution_count": 7,
   "metadata": {},
   "outputs": [
    {
     "name": "stdout",
     "output_type": "stream",
     "text": [
      "(0, 1, 2, 3, 4, 5)\n",
      "<class 'tuple'>\n",
      "(0, 1, 2, 3, 4, 5)\n",
      "<class 'tuple'>\n",
      "6\n",
      "0\n",
      "5\n"
     ]
    }
   ],
   "source": [
    "### Tuple methods\n",
    "\n",
    "t = tuple(range(6))\n",
    "print(t)\n",
    "print(type(t))\n",
    "\n",
    "s = tuple(list(range(6)))\n",
    "print(s)\n",
    "print(type(s))\n",
    "\n",
    "print(len(t))\n",
    "print(min(s))\n",
    "print(max(t))"
   ]
  },
  {
   "cell_type": "code",
   "execution_count": 9,
   "metadata": {},
   "outputs": [
    {
     "name": "stdout",
     "output_type": "stream",
     "text": [
      "15\n",
      "2.5\n"
     ]
    }
   ],
   "source": [
    "### Library operations on tuples\n",
    "\n",
    "from numpy import *\n",
    "import statistics as st\n",
    "\n",
    "t_sum = sum(t)\n",
    "print(t_sum)\n",
    "\n",
    "t_mean = st.mean(t)\n",
    "print(t_mean)"
   ]
  },
  {
   "cell_type": "code",
   "execution_count": 17,
   "metadata": {},
   "outputs": [
    {
     "name": "stdout",
     "output_type": "stream",
     "text": [
      "(0, 1, 2, 3, 4, 5, 6, 7, 8, 9, 10)\n",
      "(0, 1, 2, 3, 4, 5, 'Quants', 1, 30)\n",
      "(0, 1, 2, 3, 4, 5, 0, 1, 2, 3, 4, 5)\n",
      "(0, 1, 2, 3, 4, 5, 0, 1, 2, 3, 4, 5, 0, 1, 2, 3, 4, 5)\n",
      "(2, 3, 4, 5)\n"
     ]
    }
   ],
   "source": [
    "### Arithmetics of tuple\n",
    "\n",
    "#Addition\n",
    "\n",
    "p = tuple(list(range(10)))\n",
    "p_add = p + (10,)\n",
    "print(p_add)\n",
    "\n",
    "### Extending of elements\n",
    "\n",
    "#1.\n",
    "\n",
    "print(t+(\"Quants\", 1, 30))\n",
    "\n",
    "#2. \n",
    "# adds the same set twice\n",
    "print(t*2)\n",
    "\n",
    "#3. \n",
    "print(t*3)\n",
    "\n",
    "#4.\n",
    "print(tuple([t[i] for i in range(2,6)]))"
   ]
  },
  {
   "cell_type": "code",
   "execution_count": 20,
   "metadata": {},
   "outputs": [
    {
     "name": "stdout",
     "output_type": "stream",
     "text": [
      "True\n",
      "False\n"
     ]
    }
   ],
   "source": [
    "### Existence in tuple\n",
    "\n",
    "print(2 in t)\n",
    "print((2,6,7) in t*3)"
   ]
  },
  {
   "cell_type": "markdown",
   "metadata": {},
   "source": [
    "### Unpacking"
   ]
  },
  {
   "cell_type": "code",
   "execution_count": 22,
   "metadata": {},
   "outputs": [
    {
     "name": "stdout",
     "output_type": "stream",
     "text": [
      "1.364667\n",
      "103.991563\n"
     ]
    }
   ],
   "source": [
    "coords =  1.364667, 103.991563\n",
    "north, east = coords\n",
    "print(north)\n",
    "print(east)"
   ]
  },
  {
   "cell_type": "code",
   "execution_count": 24,
   "metadata": {},
   "outputs": [
    {
     "data": {
      "text/plain": [
       "(1.364667, 103.991563)"
      ]
     },
     "execution_count": 24,
     "metadata": {},
     "output_type": "execute_result"
    }
   ],
   "source": [
    "## Assigning converts towards tuples\n",
    "lats = coords\n",
    "lats"
   ]
  },
  {
   "cell_type": "code",
   "execution_count": 27,
   "metadata": {},
   "outputs": [
    {
     "name": "stdout",
     "output_type": "stream",
     "text": [
      "1.364667\n"
     ]
    },
    {
     "ename": "NameError",
     "evalue": "name 'long' is not defined",
     "output_type": "error",
     "traceback": [
      "\u001b[1;31m---------------------------------------------------------------------------\u001b[0m",
      "\u001b[1;31mNameError\u001b[0m                                 Traceback (most recent call last)",
      "\u001b[1;32m<ipython-input-27-6ea427e047fa>\u001b[0m in \u001b[0;36m<module>\u001b[1;34m\u001b[0m\n\u001b[0;32m      6\u001b[0m \u001b[1;31m### deleting\u001b[0m\u001b[1;33m\u001b[0m\u001b[1;33m\u001b[0m\u001b[1;33m\u001b[0m\u001b[0m\n\u001b[0;32m      7\u001b[0m \u001b[1;32mdel\u001b[0m \u001b[0mlong\u001b[0m\u001b[1;33m\u001b[0m\u001b[1;33m\u001b[0m\u001b[0m\n\u001b[1;32m----> 8\u001b[1;33m \u001b[0mprint\u001b[0m\u001b[1;33m(\u001b[0m\u001b[0mlong\u001b[0m\u001b[1;33m)\u001b[0m\u001b[1;33m\u001b[0m\u001b[1;33m\u001b[0m\u001b[0m\n\u001b[0m",
      "\u001b[1;31mNameError\u001b[0m: name 'long' is not defined"
     ]
    }
   ],
   "source": [
    "### Suppressing for deletion\n",
    "\n",
    "long, _  = coords\n",
    "print(long)\n",
    "\n",
    "### deleting \n",
    "del long\n",
    "print(long)"
   ]
  },
  {
   "cell_type": "markdown",
   "metadata": {},
   "source": [
    "### NAMED TUPLE"
   ]
  },
  {
   "cell_type": "code",
   "execution_count": 33,
   "metadata": {},
   "outputs": [
    {
     "name": "stdout",
     "output_type": "stream",
     "text": [
      "<class '__main__.Frontier'>\n",
      "0.13\n",
      "0.3\n"
     ]
    }
   ],
   "source": [
    "### NamedTuple\n",
    "\n",
    "from collections import namedtuple\n",
    "\n",
    "frontier = namedtuple(\"Frontier\", ['risk', 'ret', 'riskfree'])\n",
    "market = frontier(0.13, 0.3, 0.03)\n",
    "\n",
    "print(frontier)\n",
    "print(market.risk)\n",
    "print(market.ret)\n",
    "\n",
    "# checking validity of a portfolio\n",
    "\n",
    "portfolio = 0.19,0.34\n",
    "if portfolio[0] < market.risk:\n",
    "    if portfolio[1] > market.ret:\n",
    "        print('Invalid Portfolio')\n",
    "    else:\n",
    "        print('Valid Portfolio')"
   ]
  },
  {
   "cell_type": "markdown",
   "metadata": {},
   "source": [
    "# SETS"
   ]
  },
  {
   "cell_type": "markdown",
   "metadata": {},
   "source": [
    "#### Properties: (a) Unique items, (b) Sorted"
   ]
  },
  {
   "cell_type": "code",
   "execution_count": 41,
   "metadata": {},
   "outputs": [
    {
     "name": "stdout",
     "output_type": "stream",
     "text": [
      "Original set is: [5, 9, 2, 5, 0, 6, 1, 5, 8, 2]\n",
      "Unique set is : {0, 1, 2, 5, 6, 8, 9}\n"
     ]
    }
   ],
   "source": [
    "import random as r\n",
    "\n",
    "s = [r.randrange(10) for i in range(10)]\n",
    "print(f'Original set is: {s}')\n",
    "\n",
    "unique = set(s)\n",
    "print(f'Unique set is : {unique}')"
   ]
  },
  {
   "cell_type": "code",
   "execution_count": 43,
   "metadata": {},
   "outputs": [
    {
     "name": "stdout",
     "output_type": "stream",
     "text": [
      "{0, 3, 4, 10, 12, 14, 18, 19, 22}\n",
      "{3, 4, 5, 7, 8, 11, 12, 16}\n",
      "{3, 4, 12}\n",
      "{0, 3, 4, 5, 7, 8, 10, 11, 12, 14, 16, 18, 19, 22}\n",
      "{0, 10, 14, 18, 19, 22}\n"
     ]
    }
   ],
   "source": [
    "### Operations with sets\n",
    "\n",
    "s1 = [r.randrange(25) for i in range(10)]\n",
    "s2 = [r.randrange(20) for i in range(10)]\n",
    "\n",
    "u1 = set(s1)\n",
    "u2 = set(s2)\n",
    "\n",
    "print(u1)\n",
    "print(u2)\n",
    "\n",
    "# Intersections\n",
    "print(u1.intersection(u2))\n",
    "\n",
    "# Union\n",
    "print(u1.union(u2))\n",
    "\n",
    "#Difference\n",
    "print(u1.difference(u2))"
   ]
  },
  {
   "cell_type": "code",
   "execution_count": 49,
   "metadata": {},
   "outputs": [
    {
     "name": "stdout",
     "output_type": "stream",
     "text": [
      "{0, 3, 4, 10, 12, 14, 18, 19, 22, 25, 27}\n",
      "{0, 3, 4, 5, 7, 8, 10, 11, 12, 14, 16, 18, 19, 22, 25, 27}\n"
     ]
    }
   ],
   "source": [
    "## Arithmetics wit sets\n",
    "\n",
    "u1.update({25,27})\n",
    "print(u1)\n",
    "\n",
    "u2.update(u1)\n",
    "print(u2)"
   ]
  },
  {
   "cell_type": "code",
   "execution_count": null,
   "metadata": {},
   "outputs": [],
   "source": []
  }
 ],
 "metadata": {
  "kernelspec": {
   "display_name": "Python 3",
   "language": "python",
   "name": "python3"
  },
  "language_info": {
   "codemirror_mode": {
    "name": "ipython",
    "version": 3
   },
   "file_extension": ".py",
   "mimetype": "text/x-python",
   "name": "python",
   "nbconvert_exporter": "python",
   "pygments_lexer": "ipython3",
   "version": "3.8.5"
  }
 },
 "nbformat": 4,
 "nbformat_minor": 4
}
