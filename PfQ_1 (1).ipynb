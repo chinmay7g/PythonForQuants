{
 "cells": [
  {
   "cell_type": "markdown",
   "metadata": {},
   "source": [
    "### List operations"
   ]
  },
  {
   "cell_type": "code",
   "execution_count": 4,
   "metadata": {},
   "outputs": [
    {
     "name": "stdout",
     "output_type": "stream",
     "text": [
      "[1, 2, 3, 4, 5, 6, 7, 8, 9]\n"
     ]
    }
   ],
   "source": [
    "x = [i for i in range(1,10)]\n",
    "print(x)"
   ]
  },
  {
   "cell_type": "code",
   "execution_count": 5,
   "metadata": {},
   "outputs": [
    {
     "data": {
      "text/plain": [
       "[6, 7, 8, 9]"
      ]
     },
     "execution_count": 5,
     "metadata": {},
     "output_type": "execute_result"
    }
   ],
   "source": [
    "a = x[5::]\n",
    "a"
   ]
  },
  {
   "cell_type": "code",
   "execution_count": 6,
   "metadata": {},
   "outputs": [
    {
     "data": {
      "text/plain": [
       "[1, 4, 7]"
      ]
     },
     "execution_count": 6,
     "metadata": {},
     "output_type": "execute_result"
    }
   ],
   "source": [
    "b = x[::3]\n",
    "b"
   ]
  },
  {
   "cell_type": "code",
   "execution_count": 7,
   "metadata": {},
   "outputs": [
    {
     "data": {
      "text/plain": [
       "[9, 4]"
      ]
     },
     "execution_count": 7,
     "metadata": {},
     "output_type": "execute_result"
    }
   ],
   "source": [
    "c = x[::-5]\n",
    "c"
   ]
  },
  {
   "cell_type": "code",
   "execution_count": 9,
   "metadata": {},
   "outputs": [
    {
     "data": {
      "text/plain": [
       "[9, 8, 7, 6, 5, 4, 3, 2, 1]"
      ]
     },
     "execution_count": 9,
     "metadata": {},
     "output_type": "execute_result"
    }
   ],
   "source": [
    "d = x[::-1]\n",
    "d"
   ]
  },
  {
   "cell_type": "code",
   "execution_count": 11,
   "metadata": {},
   "outputs": [
    {
     "data": {
      "text/plain": [
       "[3, 1]"
      ]
     },
     "execution_count": 11,
     "metadata": {},
     "output_type": "execute_result"
    }
   ],
   "source": [
    "e = x[2::-2]\n",
    "e"
   ]
  },
  {
   "cell_type": "code",
   "execution_count": 16,
   "metadata": {},
   "outputs": [
    {
     "name": "stdout",
     "output_type": "stream",
     "text": [
      "[5, 4, 3, 2]\n"
     ]
    }
   ],
   "source": [
    "p = [-i for i in range(-5,-1)]\n",
    "print(p)\n"
   ]
  },
  {
   "cell_type": "code",
   "execution_count": 13,
   "metadata": {},
   "outputs": [
    {
     "data": {
      "text/plain": [
       "[4, 9, 16, 25]"
      ]
     },
     "execution_count": 13,
     "metadata": {},
     "output_type": "execute_result"
    }
   ],
   "source": [
    "q = [p[i]**2 for i in reversed(range(len(p)))]\n",
    "q"
   ]
  },
  {
   "cell_type": "code",
   "execution_count": 19,
   "metadata": {},
   "outputs": [
    {
     "data": {
      "text/plain": [
       "[9, 25]"
      ]
     },
     "execution_count": 19,
     "metadata": {},
     "output_type": "execute_result"
    }
   ],
   "source": [
    "r = [p[i]**2 for i in reversed(range(len(p))) if i%2==0]\n",
    "r"
   ]
  },
  {
   "cell_type": "code",
   "execution_count": 20,
   "metadata": {},
   "outputs": [
    {
     "data": {
      "text/plain": [
       "[4, 9, 16]"
      ]
     },
     "execution_count": 20,
     "metadata": {},
     "output_type": "execute_result"
    }
   ],
   "source": [
    "s = [p[i]**2 for i in reversed(range(len(p))) if i != 0]\n",
    "s"
   ]
  },
  {
   "cell_type": "code",
   "execution_count": 21,
   "metadata": {},
   "outputs": [
    {
     "data": {
      "text/plain": [
       "3"
      ]
     },
     "execution_count": 21,
     "metadata": {},
     "output_type": "execute_result"
    }
   ],
   "source": [
    "x = [\"He gave me\", \"stock information\", 4, \"free\"]\n",
    "x.index(\"free\")"
   ]
  },
  {
   "cell_type": "markdown",
   "metadata": {},
   "source": [
    "### Zip function"
   ]
  },
  {
   "cell_type": "code",
   "execution_count": 30,
   "metadata": {},
   "outputs": [
    {
     "name": "stdout",
     "output_type": "stream",
     "text": [
      "[(1, 1), (2, 4), (3, 9), (4, 16), (5, 25)]\n",
      "[2, 6, 12, 20, 30]\n"
     ]
    }
   ],
   "source": [
    "x = range(1,6)\n",
    "y = [i for i in x]\n",
    "z = [i**2 for i in x]\n",
    "w = [e for e in zip(y,z)]\n",
    "print(w)\n",
    "u = [sum(v) for v in w]\n",
    "print(u)"
   ]
  },
  {
   "cell_type": "code",
   "execution_count": null,
   "metadata": {},
   "outputs": [],
   "source": []
  },
  {
   "cell_type": "markdown",
   "metadata": {},
   "source": [
    "### Chain reactions + list comprehensions"
   ]
  },
  {
   "cell_type": "code",
   "execution_count": 32,
   "metadata": {},
   "outputs": [
    {
     "name": "stdout",
     "output_type": "stream",
     "text": [
      "[3.14, 6.28, 9.42, 12.56, 15.700000000000001]\n",
      "[3.14, 9.42, 15.700000000000001]\n"
     ]
    }
   ],
   "source": [
    "n=5\n",
    "a = [s*i for s in [3.14] for i in range(1,n+1)]\n",
    "print(a)\n",
    "\n",
    "b = [s*i for s in [3.14] for i in range(1, n+1) if i%2 !=0]\n",
    "print(b)"
   ]
  },
  {
   "cell_type": "code",
   "execution_count": 33,
   "metadata": {},
   "outputs": [
    {
     "name": "stdout",
     "output_type": "stream",
     "text": [
      "[(1, 1), (2, 4), (3, 9), (4, 16), (5, 25)]\n"
     ]
    }
   ],
   "source": [
    "c = [(i, i**2) for i in [1,2,3,4,5] ]\n",
    "print(c)"
   ]
  },
  {
   "cell_type": "code",
   "execution_count": 36,
   "metadata": {},
   "outputs": [
    {
     "data": {
      "text/plain": [
       "[[1, 2, 1, 2, 1, 2, 1, 2],\n",
       " [2, 4, 2, 4, 2, 4, 2, 4],\n",
       " [3, 6, 3, 6, 3, 6, 3, 6],\n",
       " [4, 8, 4, 8, 4, 8, 4, 8],\n",
       " [5, 10, 5, 10, 5, 10, 5, 10]]"
      ]
     },
     "execution_count": 36,
     "metadata": {},
     "output_type": "execute_result"
    }
   ],
   "source": [
    "d = [4*[i,i*2] for i in [1,2,3,4,5]]\n",
    "d"
   ]
  },
  {
   "cell_type": "code",
   "execution_count": 37,
   "metadata": {},
   "outputs": [
    {
     "data": {
      "text/plain": [
       "[[1], [1, 2], [1, 2, 3]]"
      ]
     },
     "execution_count": 37,
     "metadata": {},
     "output_type": "execute_result"
    }
   ],
   "source": [
    "e = [list(range(1,n)) for n in range(2,5)]\n",
    "e"
   ]
  },
  {
   "cell_type": "code",
   "execution_count": 44,
   "metadata": {},
   "outputs": [
    {
     "name": "stdout",
     "output_type": "stream",
     "text": [
      "[[3.14], [3.14, 3.14], [3.14, 3.14, 3.14], [3.14, 3.14, 3.14, 3.14]]\n",
      "[[], [3.14], [3.14, 3.14], [3.14, 3.14, 3.14]]\n",
      "[3, 3, 3, 3, 3]\n",
      "[0.01, 0.01, 0.01]\n",
      "[3, 3, 3, 3, 3]\n"
     ]
    }
   ],
   "source": [
    "f = range(1,5)\n",
    "g = [[3.14]*i for i in f]\n",
    "print(g)\n",
    "\n",
    "h = [[3.14]*i for i in range(len(f))]\n",
    "print(h)\n",
    "\n",
    "i = [3]*5\n",
    "print(i)\n",
    "\n",
    "#alternate way of doing \"i\"\n",
    "i = [0.01 for _ in [1,2,3]]\n",
    "print(i)\n",
    "\n",
    "j = [1,2,3,4,5]\n",
    "i = [3 for _ in j]\n",
    "print(i)"
   ]
  },
  {
   "cell_type": "markdown",
   "metadata": {},
   "source": [
    "### Genrating a fluctuating sequence"
   ]
  },
  {
   "cell_type": "code",
   "execution_count": 46,
   "metadata": {},
   "outputs": [
    {
     "name": "stdout",
     "output_type": "stream",
     "text": [
      "[-1, 1, -1, 1, -1, 1]\n"
     ]
    }
   ],
   "source": [
    "temp = []\n",
    "for i in range(1,6+1):\n",
    "    if i%2 ==0:\n",
    "        temp.append(1)\n",
    "    else:\n",
    "        temp.append(-1)\n",
    "print(temp)"
   ]
  },
  {
   "cell_type": "code",
   "execution_count": 49,
   "metadata": {},
   "outputs": [
    {
     "data": {
      "text/plain": [
       "[0.000625, -0.00125, 0.001875, -0.0025, 0.003125]"
      ]
     },
     "execution_count": 49,
     "metadata": {},
     "output_type": "execute_result"
    }
   ],
   "source": [
    "tmp=[]\n",
    "for i in range(1,5+1):\n",
    "    if i%2==0:\n",
    "        tmp.append(-1*(i%(i+2*i/10.)/1600.))\n",
    "    else:\n",
    "        tmp.append((i%(i+103.5*i/20.)/1600.))\n",
    "tmp"
   ]
  },
  {
   "cell_type": "markdown",
   "metadata": {},
   "source": [
    "### zip function"
   ]
  },
  {
   "cell_type": "code",
   "execution_count": 50,
   "metadata": {},
   "outputs": [
    {
     "name": "stdout",
     "output_type": "stream",
     "text": [
      "[4.02, 5.02, 6.02, 7.02, 8.02]\n"
     ]
    }
   ],
   "source": [
    "x = [4,5,6,7,8]\n",
    "y = [0.02 for _ in x]\n",
    "z = [x+y for x,y in zip(x,y)]\n",
    "print(z)"
   ]
  },
  {
   "cell_type": "code",
   "execution_count": null,
   "metadata": {},
   "outputs": [],
   "source": []
  },
  {
   "cell_type": "markdown",
   "metadata": {},
   "source": [
    "### Generating stock history w/o using Pandas"
   ]
  },
  {
   "cell_type": "code",
   "execution_count": 52,
   "metadata": {},
   "outputs": [
    {
     "name": "stdout",
     "output_type": "stream",
     "text": [
      "[[1, 'JPM', 99.82237099921706], [1, 'BRK', 88.92786120119871], [1, 'SPX', 93.42432786235727], [2, 'JPM', 83.74377476019268], [2, 'BRK', 93.63328974300045], [2, 'SPX', 87.50439373420797], [3, 'JPM', 83.92842379959129], [3, 'BRK', 96.96299433718823], [3, 'SPX', 87.22090569858798]]\n"
     ]
    }
   ],
   "source": [
    "from numpy.random import *\n",
    "\n",
    "def randomPrices():\n",
    "    return uniform(80,100)\n",
    "\n",
    "stocks = ['JPM', \"BRK\", \"SPX\"]\n",
    "n = len(stocks)\n",
    "\n",
    "stock_data= [[i, stock, prices ] for i in range(1,n+1) for stock in stocks for prices in [randomPrices()]]\n",
    "print(stock_data)"
   ]
  },
  {
   "cell_type": "code",
   "execution_count": 53,
   "metadata": {},
   "outputs": [
    {
     "name": "stdout",
     "output_type": "stream",
     "text": [
      "[[1, 'JPM', 282.44207606518495], [1, 'BRK', 297.33554520643], [1, 'SPX', 242.31550708022155], [2, 'JPM', 284.6189946557796], [2, 'BRK', 296.02807628095377], [2, 'SPX', 296.8062889983759], [3, 'JPM', 241.880738750509], [3, 'BRK', 250.85517210426536], [3, 'SPX', 240.78469823216176]]\n"
     ]
    }
   ],
   "source": [
    "stock_data_= [[i, stock, prices ] for i in range(1,n+1) for stock in stocks for prices in [randomPrices()*n]]\n",
    "print(stock_data_)"
   ]
  },
  {
   "cell_type": "code",
   "execution_count": 54,
   "metadata": {},
   "outputs": [
    {
     "data": {
      "text/plain": [
       "[7, 4, 1]"
      ]
     },
     "execution_count": 54,
     "metadata": {},
     "output_type": "execute_result"
    }
   ],
   "source": [
    "x = [1,4,7]\n",
    "y = list(reversed(x))\n",
    "y"
   ]
  },
  {
   "cell_type": "code",
   "execution_count": 56,
   "metadata": {},
   "outputs": [
    {
     "data": {
      "text/plain": [
       "[1, 2, 'JPM', 3, 4]"
      ]
     },
     "execution_count": 56,
     "metadata": {},
     "output_type": "execute_result"
    }
   ],
   "source": [
    "x = [1,2,3,4]\n",
    "x.insert(-2, \"JPM\")\n",
    "x"
   ]
  },
  {
   "cell_type": "code",
   "execution_count": 58,
   "metadata": {},
   "outputs": [
    {
     "name": "stdout",
     "output_type": "stream",
     "text": [
      "[1, 'JPM', 2, 3, 4, 5]\n",
      "[1, 'JPM', 'JPM', 2, 3, 4, 5]\n",
      "[1, 'JPM', 'JPM', 'JPM', 2, 3, 4, 5]\n",
      "[1, 'JPM', 'JPM', 'JPM', 'JPM', 2, 3, 4, 5]\n",
      "[1, 'JPM', 'JPM', 'JPM', 'JPM', 'JPM', 2, 3, 4, 5]\n"
     ]
    }
   ],
   "source": [
    "y = [1,2,3,4,5]\n",
    "for i in range(1,5+1):\n",
    "    y.insert(i, \"JPM\")\n",
    "    print(y)"
   ]
  },
  {
   "cell_type": "code",
   "execution_count": null,
   "metadata": {},
   "outputs": [],
   "source": []
  },
  {
   "cell_type": "code",
   "execution_count": null,
   "metadata": {},
   "outputs": [],
   "source": []
  },
  {
   "cell_type": "code",
   "execution_count": null,
   "metadata": {},
   "outputs": [],
   "source": []
  },
  {
   "cell_type": "code",
   "execution_count": null,
   "metadata": {},
   "outputs": [],
   "source": []
  }
 ],
 "metadata": {
  "kernelspec": {
   "display_name": "Python 3",
   "language": "python",
   "name": "python3"
  },
  "language_info": {
   "codemirror_mode": {
    "name": "ipython",
    "version": 3
   },
   "file_extension": ".py",
   "mimetype": "text/x-python",
   "name": "python",
   "nbconvert_exporter": "python",
   "pygments_lexer": "ipython3",
   "version": "3.8.5"
  }
 },
 "nbformat": 4,
 "nbformat_minor": 4
}
